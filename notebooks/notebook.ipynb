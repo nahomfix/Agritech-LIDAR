{
 "cells": [
  {
   "cell_type": "code",
   "execution_count": 12,
   "metadata": {},
   "outputs": [],
   "source": [
    "from urllib.request import urlopen\n",
    "import json"
   ]
  },
  {
   "cell_type": "code",
   "execution_count": 17,
   "metadata": {},
   "outputs": [],
   "source": [
    "contents = urlopen(\"http://s3-us-west-2.amazonaws.com/usgs-lidar-public/IL_BooneCo_2007/ept.json\").read()"
   ]
  },
  {
   "cell_type": "code",
   "execution_count": 29,
   "metadata": {},
   "outputs": [
    {
     "data": {
      "text/plain": [
       "{'bounds': [-9619663, 5187948, 320, -9618817, 5188794, 1166],\n",
       " 'boundsConforming': [-9619660, 5187949, 687, -9618820, 5188793, 798],\n",
       " 'dataType': 'laszip',\n",
       " 'hierarchyType': 'json',\n",
       " 'points': 828681,\n",
       " 'schema': [{'name': 'X',\n",
       "   'offset': -9619240,\n",
       "   'scale': 0.01,\n",
       "   'size': 4,\n",
       "   'type': 'signed'},\n",
       "  {'name': 'Y', 'offset': 5188371, 'scale': 0.01, 'size': 4, 'type': 'signed'},\n",
       "  {'name': 'Z', 'offset': 743, 'scale': 0.01, 'size': 4, 'type': 'signed'},\n",
       "  {'name': 'Intensity', 'size': 2, 'type': 'unsigned'},\n",
       "  {'name': 'ReturnNumber', 'size': 1, 'type': 'unsigned'},\n",
       "  {'name': 'NumberOfReturns', 'size': 1, 'type': 'unsigned'},\n",
       "  {'name': 'ScanDirectionFlag', 'size': 1, 'type': 'unsigned'},\n",
       "  {'name': 'EdgeOfFlightLine', 'size': 1, 'type': 'unsigned'},\n",
       "  {'name': 'Classification', 'size': 1, 'type': 'unsigned'},\n",
       "  {'name': 'ScanAngleRank', 'size': 4, 'type': 'float'},\n",
       "  {'name': 'UserData', 'size': 1, 'type': 'unsigned'},\n",
       "  {'name': 'PointSourceId', 'size': 2, 'type': 'unsigned'},\n",
       "  {'name': 'GpsTime', 'size': 8, 'type': 'float'},\n",
       "  {'name': 'OriginId', 'size': 4, 'type': 'unsigned'}],\n",
       " 'span': 256,\n",
       " 'srs': {'authority': 'EPSG',\n",
       "  'horizontal': '3857',\n",
       "  'wkt': 'PROJCS[\"WGS 84 / Pseudo-Mercator\",GEOGCS[\"WGS 84\",DATUM[\"WGS_1984\",SPHEROID[\"WGS 84\",6378137,298.257223563,AUTHORITY[\"EPSG\",\"7030\"]],AUTHORITY[\"EPSG\",\"6326\"]],PRIMEM[\"Greenwich\",0,AUTHORITY[\"EPSG\",\"8901\"]],UNIT[\"degree\",0.0174532925199433,AUTHORITY[\"EPSG\",\"9122\"]],AUTHORITY[\"EPSG\",\"4326\"]],PROJECTION[\"Mercator_1SP\"],PARAMETER[\"central_meridian\",0],PARAMETER[\"scale_factor\",1],PARAMETER[\"false_easting\",0],PARAMETER[\"false_northing\",0],UNIT[\"metre\",1,AUTHORITY[\"EPSG\",\"9001\"]],AXIS[\"X\",EAST],AXIS[\"Y\",NORTH],EXTENSION[\"PROJ4\",\"+proj=merc +a=6378137 +b=6378137 +lat_ts=0.0 +lon_0=0.0 +x_0=0.0 +y_0=0 +k=1.0 +units=m +nadgrids=@null +wktext +no_defs\"],AUTHORITY[\"EPSG\",\"3857\"]]'},\n",
       " 'version': '1.1.0'}"
      ]
     },
     "execution_count": 29,
     "metadata": {},
     "output_type": "execute_result"
    }
   ],
   "source": [
    "json.loads(contents.decode('utf-8'))"
   ]
  },
  {
   "cell_type": "code",
   "execution_count": 30,
   "metadata": {},
   "outputs": [],
   "source": [
    "filename = \"OH_Statewide_Phase1_8_2019\""
   ]
  },
  {
   "cell_type": "code",
   "execution_count": 33,
   "metadata": {},
   "outputs": [],
   "source": [
    "name = \"_\".join(filename.split(\"_\")[:-1])\n",
    "year = filename.split(\"_\")[-1]"
   ]
  },
  {
   "cell_type": "code",
   "execution_count": 35,
   "metadata": {},
   "outputs": [
    {
     "data": {
      "text/plain": [
       "'OH_Statewide_Phase1_8'"
      ]
     },
     "execution_count": 35,
     "metadata": {},
     "output_type": "execute_result"
    }
   ],
   "source": [
    "name"
   ]
  },
  {
   "cell_type": "code",
   "execution_count": null,
   "metadata": {},
   "outputs": [],
   "source": []
  }
 ],
 "metadata": {
  "interpreter": {
   "hash": "63fd5069d213b44bf678585dea6b12cceca9941eaf7f819626cde1f2670de90d"
  },
  "kernelspec": {
   "display_name": "Python 3.9.6 64-bit",
   "language": "python",
   "name": "python3"
  },
  "language_info": {
   "codemirror_mode": {
    "name": "ipython",
    "version": 3
   },
   "file_extension": ".py",
   "mimetype": "text/x-python",
   "name": "python",
   "nbconvert_exporter": "python",
   "pygments_lexer": "ipython3",
   "version": "3.9.6"
  },
  "orig_nbformat": 4
 },
 "nbformat": 4,
 "nbformat_minor": 2
}
